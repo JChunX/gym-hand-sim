{
 "cells": [
  {
   "cell_type": "code",
   "execution_count": 1,
   "id": "operational-inflation",
   "metadata": {},
   "outputs": [
    {
     "name": "stdout",
     "output_type": "stream",
     "text": [
      "running build_ext\n",
      "c:\\users\\xieji\\repos\\gym-hand-sim\\gym_hand_sim\\envs\n",
      "c:\\users\\xieji\\repos\\gym-hand-sim\\gym_hand_sim\\envs\n"
     ]
    }
   ],
   "source": [
    "import numpy as np \n",
    "import time\n",
    "import random\n",
    "import mujoco_py\n",
    "import gym\n",
    "import os\n",
    "\n",
    "from mjremote import mjremote\n",
    "from mujoco_py import MjSim\n",
    "\n",
    "from gym_hand_sim.envs import mpl_thumb_grasp_env\n",
    "\n",
    "import tensorflow as tf \n",
    "import tf_agents\n",
    "from tf_agents.environments import suite_mujoco\n",
    "from tf_agents.environments import tf_py_environment, batched_py_environment\n",
    "from tf_agents.networks import q_network\n",
    "from tf_agents.agents.dqn import dqn_agent\n",
    "from tf_agents.utils import common\n",
    "\n",
    "MAX_EPISODE_STEPS = 50\n",
    "\n",
    "num_iterations = 20000 # @param {type:\"integer\"}\n",
    "initial_collect_steps = 100  # @param {type:\"integer\"} \n",
    "collect_steps_per_iteration = 1  # @param {type:\"integer\"}\n",
    "replay_buffer_max_length = 100000  # @param {type:\"integer\"}\n",
    "batch_size = 64  # @param {type:\"integer\"}\n",
    "learning_rate = 1e-3  # @param {type:\"number\"}\n",
    "log_interval = 200  # @param {type:\"integer\"}\n",
    "num_eval_episodes = 10  # @param {type:\"integer\"}\n",
    "eval_interval = 1000  # @param {type:\"integer\"}\n",
    "num_parallel_environments = 4\n",
    "\n",
    "tf_agents.system.multiprocessing.enable_interactive_mode()\n",
    "train_py_env = suite_mujoco.load('gym_hand_sim:MplThumbGraspBall-v0')\n",
    "eval_py_env = suite_mujoco.load('gym_hand_sim:MplThumbGraspBall-v0')\n",
    "train_env = tf_py_environment.TFPyEnvironment(batched_py_environment.BatchedPyEnvironment([train_py_env] * num_parallel_environments))\n",
    "eval_env = tf_py_environment.TFPyEnvironment(eval_py_env)\n"
   ]
  },
  {
   "cell_type": "code",
   "execution_count": 2,
   "id": "amber-importance",
   "metadata": {},
   "outputs": [],
   "source": [
    "def compute_avg_return(environment, policy, num_episodes=10):\n",
    "    total_return = 0.0\n",
    "    for _ in range(num_episodes):\n",
    "\n",
    "        time_step = environment.reset()\n",
    "        episode_return = 0.0\n",
    "\n",
    "        while not time_step.is_last():\n",
    "            action_step = policy.action(time_step)\n",
    "            time_step = environment.step(action_step.action)\n",
    "            episode_return += time_step.reward\n",
    "        total_return += episode_return\n",
    "    avg_return = total_return / num_episodes\n",
    "    return avg_return.numpy()[0]\n",
    "\n",
    "def create_nets(observation_spec, action_spec):\n",
    "    policy_net = ActorDistributionRnnNetwork(\n",
    "        observation_spec,\n",
    "        action_spec,\n",
    "        input_fc_layer_params = (256,),\n",
    "        lstm_size = (128,),\n",
    "        output_fc_layer_params = (128,),\n",
    "        activation_fn = tf.nn.relu)\n",
    "    value_net = ValueRnnNetwork(\n",
    "        observation_spec,\n",
    "        action_spec,\n",
    "        input_fc_layer_params = (256,),\n",
    "        lstm_size = (128,),\n",
    "        output_fc_layer_params = (128,),\n",
    "        activation_fn = tf.nn.relu)\n",
    "    \n",
    "    return policy_net, value_net\n"
   ]
  },
  {
   "cell_type": "code",
   "execution_count": null,
   "id": "bright-celtic",
   "metadata": {},
   "outputs": [],
   "source": []
  },
  {
   "cell_type": "code",
   "execution_count": null,
   "id": "elder-western",
   "metadata": {},
   "outputs": [],
   "source": [
    "\n",
    "\n",
    "'''\n",
    "Init policy (actor) network and value (critic) network\n",
    "\n",
    "for k = 0,1,2:\n",
    "    collect set of trajectories {tau_i} by running pi_k = pi(theta_k) in env\n",
    "    compute rewards R_t_hat\n",
    "    compute advantage estimates A_t_hat based on current value function V_phi_k\n",
    "    update policy (pi(theta_k+1))via PPO-Clip - SGA w/ Adam\n",
    "    fit value function (V_phi_k+1) by regression\n",
    "'''"
   ]
  },
  {
   "cell_type": "code",
   "execution_count": 4,
   "id": "million-surfing",
   "metadata": {},
   "outputs": [
    {
     "ename": "NameError",
     "evalue": "name 'agent' is not defined",
     "output_type": "error",
     "traceback": [
      "\u001b[1;31m---------------------------------------------------------------------------\u001b[0m",
      "\u001b[1;31mNameError\u001b[0m                                 Traceback (most recent call last)",
      "\u001b[1;32m<ipython-input-4-a7e518b71d3b>\u001b[0m in \u001b[0;36m<module>\u001b[1;34m\u001b[0m\n\u001b[0;32m      4\u001b[0m \u001b[0mtrain_step_counter\u001b[0m \u001b[1;33m=\u001b[0m \u001b[0mtf\u001b[0m\u001b[1;33m.\u001b[0m\u001b[0mVariable\u001b[0m\u001b[1;33m(\u001b[0m\u001b[1;36m0\u001b[0m\u001b[1;33m)\u001b[0m\u001b[1;33m\u001b[0m\u001b[1;33m\u001b[0m\u001b[0m\n\u001b[0;32m      5\u001b[0m \u001b[1;33m\u001b[0m\u001b[0m\n\u001b[1;32m----> 6\u001b[1;33m \u001b[0magent\u001b[0m\u001b[1;33m.\u001b[0m\u001b[0minitialize\u001b[0m\u001b[1;33m(\u001b[0m\u001b[1;33m)\u001b[0m\u001b[1;33m\u001b[0m\u001b[1;33m\u001b[0m\u001b[0m\n\u001b[0m\u001b[0;32m      7\u001b[0m \u001b[0meval_policy\u001b[0m \u001b[1;33m=\u001b[0m \u001b[0magent\u001b[0m\u001b[1;33m.\u001b[0m\u001b[0mpolicy\u001b[0m\u001b[1;33m\u001b[0m\u001b[1;33m\u001b[0m\u001b[0m\n\u001b[0;32m      8\u001b[0m \u001b[0mcollect_policy\u001b[0m \u001b[1;33m=\u001b[0m \u001b[0magent\u001b[0m\u001b[1;33m.\u001b[0m\u001b[0mcollect_policy\u001b[0m\u001b[1;33m\u001b[0m\u001b[1;33m\u001b[0m\u001b[0m\n",
      "\u001b[1;31mNameError\u001b[0m: name 'agent' is not defined"
     ]
    }
   ],
   "source": [
    "time_step = train_py_env.reset()\n",
    "\n",
    "#??\n",
    "fc_layer_params = (100,100)\n",
    "\n",
    "q_net = q_network.QNetwork(\n",
    "    train_env.observation_spec(),\n",
    "    train_env.action_spec(),\n",
    "    fc_layer_params=fc_layer_params)\n",
    "\n",
    "optimizer = tf.compat.v1.train.AdamOptimizer(learning_rate=learning_rate)\n",
    "\n",
    "train_step_counter = tf.Variable(0)\n",
    "\n",
    "agent = dqn_agent.DqnAgent(\n",
    "    train_env.time_step_spec(),\n",
    "    train_env.action_spec(),\n",
    "    q_network=q_net,\n",
    "    optimizer=optimizer,\n",
    "    td_errors_loss_fn=common.element_wise_squared_loss,\n",
    "    train_step_counter=train_step_counter)\n",
    "\n",
    "agent.initialize()\n",
    "eval_polivy = agent.policy\n",
    "collect_policy = agent.collect_policy\n",
    "\n",
    "random_policy = random_tf_policy.RandomTFPolicy(train_env.time_step_spec(),\n",
    "                                                train_env.action_spec())\n",
    "\n",
    "compute_avg_return(eval_env, random_policy)\n",
    "\"\"\"\"\n",
    "while True:\n",
    "    next_time_step = train_py_env.step(np.array([1.,1.,1.,1.]))\n",
    "    train_py_env.render()\n",
    "    print(next_time_step)\"\"\""
   ]
  },
  {
   "cell_type": "code",
   "execution_count": 6,
   "id": "prescribed-religious",
   "metadata": {},
   "outputs": [
    {
     "name": "stdout",
     "output_type": "stream",
     "text": [
      "BoundedTensorSpec(shape=(4,), dtype=tf.float32, name='action', minimum=array(-1., dtype=float32), maximum=array(1., dtype=float32))\n"
     ]
    }
   ],
   "source": [
    "print(eval_env.action_spec())"
   ]
  },
  {
   "cell_type": "code",
   "execution_count": null,
   "id": "unlike-finance",
   "metadata": {},
   "outputs": [],
   "source": []
  }
 ],
 "metadata": {
  "kernelspec": {
   "display_name": "Python 3",
   "language": "python",
   "name": "python3"
  },
  "language_info": {
   "codemirror_mode": {
    "name": "ipython",
    "version": 3
   },
   "file_extension": ".py",
   "mimetype": "text/x-python",
   "name": "python",
   "nbconvert_exporter": "python",
   "pygments_lexer": "ipython3",
   "version": "3.7.9"
  }
 },
 "nbformat": 4,
 "nbformat_minor": 5
}
